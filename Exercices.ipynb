{
  "nbformat": 4,
  "nbformat_minor": 0,
  "metadata": {
    "kernelspec": {
      "display_name": "Python 3",
      "language": "python",
      "name": "python3"
    },
    "language_info": {
      "codemirror_mode": {
        "name": "ipython",
        "version": 3
      },
      "file_extension": ".py",
      "mimetype": "text/x-python",
      "name": "python",
      "nbconvert_exporter": "python",
      "pygments_lexer": "ipython3",
      "version": "3.7.6"
    },
    "colab": {
      "name": "Final Exercices.ipynb",
      "provenance": [],
      "collapsed_sections": [],
      "include_colab_link": true
    }
  },
  "cells": [
    {
      "cell_type": "markdown",
      "metadata": {
        "id": "view-in-github",
        "colab_type": "text"
      },
      "source": [
        "<a href=\"https://colab.research.google.com/github/Ayten-web/-testing/blob/master/Exercices.ipynb\" target=\"_parent\"><img src=\"https://colab.research.google.com/assets/colab-badge.svg\" alt=\"Open In Colab\"/></a>"
      ]
    },
    {
      "cell_type": "markdown",
      "metadata": {
        "id": "-mDxTpYvmasN",
        "colab_type": "text"
      },
      "source": [
        "Exercice 1\n",
        "\n",
        "Find and delete all the duplicate words in a string.\n",
        "\n",
        "```\n",
        "Input\n",
        "sentence = 'Baku is a beautiful city. City of Baku is the capital of Azerbaijan.'\n",
        "\n",
        "Output\n",
        "sentence = 'Baku is a beautiful city. of Baku, the capital Azerbaijan.'\n",
        "```"
      ]
    },
    {
      "cell_type": "markdown",
      "metadata": {
        "id": "czA3TR_WygXj",
        "colab_type": "text"
      },
      "source": [
        ""
      ]
    },
    {
      "cell_type": "markdown",
      "metadata": {
        "id": "tTNUEmIzyfqn",
        "colab_type": "text"
      },
      "source": [
        ""
      ]
    },
    {
      "cell_type": "code",
      "metadata": {
        "id": "FFbnujdsmasS",
        "colab_type": "code",
        "colab": {
          "base_uri": "https://localhost:8080/",
          "height": 34
        },
        "outputId": "59f2504a-d3f9-422d-eec5-9404fe2a4cff"
      },
      "source": [
        "# your code here\n",
        "s = 'Baku is a beautiful City. City of Baku is the capital of Azerbaijan.'\n",
        " \n",
        "l = s.split() \n",
        "k = [] \n",
        "for i in l: \n",
        "  \n",
        "      \n",
        "    if (s.count(i)>1 and (i not in k)or s.count(i)==1): \n",
        "        k.append(i) \n",
        "print(' '.join(k)) "
      ],
      "execution_count": 22,
      "outputs": [
        {
          "output_type": "stream",
          "text": [
            "Baku is a beautiful City. City of the capital Azerbaijan.\n"
          ],
          "name": "stdout"
        }
      ]
    },
    {
      "cell_type": "markdown",
      "metadata": {
        "id": "oJB4EpM0masj",
        "colab_type": "text"
      },
      "source": [
        "**Exercice 2**\n",
        "\n",
        "Remove all consecutive duplicate charachters of a given string.\n",
        "\n",
        "```\n",
        "Input\n",
        "word1 = 'meet'\n",
        "word2 = 'booos'\n",
        "\n",
        "Output\n",
        "word1 = 'met'\n",
        "word2 = 'bos'\n",
        "```"
      ]
    },
    {
      "cell_type": "code",
      "metadata": {
        "id": "nho8pJnXmasm",
        "colab_type": "code",
        "colab": {
          "base_uri": "https://localhost:8080/",
          "height": 51
        },
        "outputId": "0335816a-153d-43d5-d7f4-12c1a3cb05a6"
      },
      "source": [
        "# your code here\n",
        "word1 = 'meet'\n",
        "word2 = 'booos'\n",
        "result1 = \"\".join(dict.fromkeys(word1)) \n",
        "result2 = \"\".join(dict.fromkeys(word2)) \n",
        "\n",
        "print(\"word1\", \"=\",result1)\n",
        "print(\"word2\", \"=\",result2)"
      ],
      "execution_count": 16,
      "outputs": [
        {
          "output_type": "stream",
          "text": [
            "word1 = met\n",
            "word2 = bos\n"
          ],
          "name": "stdout"
        }
      ]
    },
    {
      "cell_type": "code",
      "metadata": {
        "id": "g5qWq23qteUk",
        "colab_type": "code",
        "colab": {}
      },
      "source": [
        ""
      ],
      "execution_count": 0,
      "outputs": []
    },
    {
      "cell_type": "markdown",
      "metadata": {
        "id": "gPN2rfR3masx",
        "colab_type": "text"
      },
      "source": [
        "**Exercice 3**\n",
        "\n",
        "Make two given strings anagrams removing any characters from any of the strings. Return all the removed characters as a list. *Anagram* - of a string is another string that contains same characters, only the order of characters can be different. For example, `'abcd'` and `'dabc'` are anagram of each other.\n",
        "\n",
        "```\n",
        "Input\n",
        "word = 'fabcde', 'abcm'\n",
        "\n",
        "Output\n",
        "['f', 'd', 'e', 'm']\n",
        "```"
      ]
    },
    {
      "cell_type": "code",
      "metadata": {
        "id": "SjBjDKBTmas0",
        "colab_type": "code",
        "colab": {
          "base_uri": "https://localhost:8080/",
          "height": 68
        },
        "outputId": "51099bee-1a30-4b65-f8cb-1908836a213e"
      },
      "source": [
        "# your code here\n",
        "import string\n",
        "lc = string.ascii_lowercase\n",
        "uc = string.ascii_uppercase\n",
        "ac = lc+uc\n",
        "l1 = [uc]\n",
        "\n",
        "word = 'fabcde','abcm' \n",
        "t = list(word)\n",
        "for i in t:\n",
        "  print(i)\n",
        "\n",
        "\n",
        "\n",
        "\n",
        "\n",
        "\n"
      ],
      "execution_count": 30,
      "outputs": [
        {
          "output_type": "stream",
          "text": [
            "['ABCDEFGHIJKLMNOPQRSTUVWXYZ']\n",
            "fabcde\n",
            "abcm\n"
          ],
          "name": "stdout"
        }
      ]
    },
    {
      "cell_type": "markdown",
      "metadata": {
        "id": "NqCCwijymatA",
        "colab_type": "text"
      },
      "source": [
        "**Exercice 4**\n",
        "\n",
        "Change the position of every `n`th value with the `n+1`th in a list.\n",
        "\n",
        "```\n",
        "Input\n",
        "[0, 1, 2, 3, 4, 5]\n",
        "\n",
        "Output\n",
        "[1, 0, 3, 2, 5, 4]\n",
        "```"
      ]
    },
    {
      "cell_type": "code",
      "metadata": {
        "id": "jcpJ6zgfmatC",
        "colab_type": "code",
        "colab": {
          "base_uri": "https://localhost:8080/",
          "height": 34
        },
        "outputId": "f7b0a5f9-8cf7-4d4e-e20b-9a24ca320d18"
      },
      "source": [
        "# your code here it is from google\n",
        "from itertools import zip_longest, chain, tee\n",
        "def replace2copy(lst):\n",
        "    lst1, lst2 = tee(iter(lst), 2)\n",
        "    return list(chain.from_iterable(zip_longest(lst[1::2], lst[::2])))\n",
        "n = [0,1,2,3,4,5]\n",
        "print(replace2copy(n))\n",
        "\n",
        "\n",
        "\n"
      ],
      "execution_count": 27,
      "outputs": [
        {
          "output_type": "stream",
          "text": [
            "[1, 0, 3, 2, 5, 4]\n"
          ],
          "name": "stdout"
        }
      ]
    },
    {
      "cell_type": "markdown",
      "metadata": {
        "id": "X-ZgbT6dmatN",
        "colab_type": "text"
      },
      "source": [
        "**Exercice 5**\n",
        "\n",
        "Create a list by concatenating a given list which range goes from `1` to `n`.\n",
        "\n",
        "```\n",
        "Input\n",
        "['p', 'q']\n",
        "n =5\n",
        "\n",
        "Output\n",
        "['p1', 'q1', 'p2', 'q2', 'p3', 'q3', 'p4', 'q4', 'p5', 'q5']\n",
        "```"
      ]
    },
    {
      "cell_type": "markdown",
      "metadata": {
        "id": "meKe-PvZmatP",
        "colab_type": "text"
      },
      "source": [
        ""
      ]
    },
    {
      "cell_type": "code",
      "metadata": {
        "id": "xDSF_MdsmatR",
        "colab_type": "code",
        "colab": {
          "base_uri": "https://localhost:8080/",
          "height": 34
        },
        "outputId": "a126f8a3-16b2-4c31-99ac-dba11015b7e5"
      },
      "source": [
        "\n",
        "my_list = ['p', 'q']\n",
        "n = 5\n",
        "new_list = ['{}{}'.format(x, y) for y in range(1, n+1) for x in my_list]\n",
        "print(new_list)\n"
      ],
      "execution_count": 1,
      "outputs": [
        {
          "output_type": "stream",
          "text": [
            "['p1', 'q1', 'p2', 'q2', 'p3', 'q3', 'p4', 'q4', 'p5', 'q5']\n"
          ],
          "name": "stdout"
        }
      ]
    },
    {
      "cell_type": "code",
      "metadata": {
        "id": "46lYuDu5qi3M",
        "colab_type": "code",
        "colab": {}
      },
      "source": [
        ""
      ],
      "execution_count": 0,
      "outputs": []
    },
    {
      "cell_type": "code",
      "metadata": {
        "id": "0F3XBeVgmatc",
        "colab_type": "code",
        "colab": {}
      },
      "source": [
        ""
      ],
      "execution_count": 0,
      "outputs": []
    },
    {
      "cell_type": "code",
      "metadata": {
        "id": "aK-xgy3Cmatq",
        "colab_type": "code",
        "colab": {}
      },
      "source": [
        ""
      ],
      "execution_count": 0,
      "outputs": []
    }
  ]
}